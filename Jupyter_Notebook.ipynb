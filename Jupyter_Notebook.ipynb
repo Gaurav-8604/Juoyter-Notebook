{
 "cells": [
  {
   "cell_type": "markdown",
   "metadata": {},
   "source": [
    "<center>\n",
    "    <img src=\"https://cf-courses-data.s3.us.cloud-object-storage.appdomain.cloud/IBMDeveloperSkillsNetwork-DS0105EN-SkillsNetwork/labs/Module2/images/SN_web_lightmode.png\" width=\"300\" alt=\"cognitiveclass.ai logo\"  />\n",
    "</center>\n"
   ]
  },
  {
   "cell_type": "markdown",
   "metadata": {},
   "source": [
    "#### Add your code below following the instructions given in the course\n"
   ]
  },
  {
   "cell_type": "markdown",
   "metadata": {},
   "source": [
    "# My Jupyter Notebook on IBM Watson Studio"
   ]
  },
  {
   "cell_type": "markdown",
   "metadata": {},
   "source": [
    "**Gaurav Patil**\n",
    "\n",
    "Student"
   ]
  },
  {
   "cell_type": "markdown",
   "metadata": {},
   "source": [
    "I am interested in Data Science because being a vast field, I will never be bored and will enjoy the thing."
   ]
  },
  {
   "cell_type": "code",
   "execution_count": 1,
   "metadata": {},
   "outputs": [
    {
     "data": {
      "text/plain": [
       "2"
      ]
     },
     "execution_count": 1,
     "metadata": {},
     "output_type": "execute_result"
    }
   ],
   "source": [
    "1+1"
   ]
  },
  {
   "attachments": {
    "245f1bea-9bf9-4397-9586-e401bff8ed35.png": {
     "image/png": "[encoded data removed]"
    }
   },
   "cell_type": "markdown",
   "metadata": {},
   "source": [
    "---\n",
    "Horizontal Rule / Bulleted List\n",
    "---\n",
    "- 1 + 1 = 2\n",
    "- 2 + 2 = 4\n",
    "- 4 + 3 = 7\n",
    "\n",
    "\n",
    "\n",
    "\n",
    "\n",
    "---\n",
    "Numbered List\n",
    "---\n",
    "1. 9 + 7 = 16\n",
    "2. 5 + 1 = 6\n",
    "3. 7 + 2 = 9\n",
    "\n",
    "\n",
    "\n",
    "\n",
    "\n",
    "---\n",
    "Table\n",
    "---\n",
    "| Number 1 | Number 2 | Output|\n",
    "| --- | --- | --- |\n",
    "| 1 | 2 | 3 |\n",
    "| 2 | 8 | 10 |\n",
    "| 8 | 7 | 15 |\n",
    "\n",
    "\n",
    "\n",
    "\n",
    "\n",
    "---\n",
    "Hyperlink\n",
    "---\n",
    "https://www.geeksforgeeks.org/python-program-to-add-two-numbers/\n",
    "\n",
    "\n",
    "\n",
    "\n",
    "\n",
    "---\n",
    "Image\n",
    "---\n",
    "![image.png](attachment:245f1bea-9bf9-4397-9586-e401bff8ed35.png)"
   ]
  },
  {
   "cell_type": "code",
   "execution_count": null,
   "metadata": {},
   "outputs": [],
   "source": []
  }
 ],
 "metadata": {
  "kernelspec": {
   "display_name": "Python",
   "language": "python",
   "name": "conda-env-python-py"
  },
  "language_info": {
   "codemirror_mode": {
    "name": "ipython",
    "version": 3
   },
   "file_extension": ".py",
   "mimetype": "text/x-python",
   "name": "python",
   "nbconvert_exporter": "python",
   "pygments_lexer": "ipython3",
   "version": "3.7.12"
  }
 },
 "nbformat": 4,
 "nbformat_minor": 4
}
